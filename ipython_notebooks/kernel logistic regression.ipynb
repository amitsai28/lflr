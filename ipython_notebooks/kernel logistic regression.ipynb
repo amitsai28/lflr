{
 "cells": [
  {
   "cell_type": "markdown",
   "metadata": {},
   "source": [
    "goal:\n",
    "=====\n",
    "\n",
    "multiclass logistic regression with the inner product replaced by a more general kernal function"
   ]
  },
  {
   "cell_type": "code",
   "execution_count": 1,
   "metadata": {
    "collapsed": false
   },
   "outputs": [],
   "source": [
    "# import this stuff\n",
    "import time\n",
    "import sys\n",
    "from pylab import *\n",
    "from scipy import sparse\n",
    "import numpy as np\n",
    "\n",
    "import tensorflow as tf\n",
    "\n",
    "from sklearn.cross_validation import train_test_split\n",
    "from sklearn.preprocessing import OneHotEncoder\n",
    "from sklearn.feature_extraction import FeatureHasher\n",
    "from sklearn.feature_extraction.text import TfidfVectorizer\n",
    "from sklearn import datasets\n",
    "from sklearn.metrics import roc_auc_score, f1_score, confusion_matrix"
   ]
  },
  {
   "cell_type": "code",
   "execution_count": 120,
   "metadata": {
    "collapsed": false
   },
   "outputs": [],
   "source": [
    "def factorize(observed_features,\n",
    "              labels,\n",
    "              observed_features_validation,\n",
    "              labels_validation,\n",
    "              max_iter=100,\n",
    "              verbose=False,\n",
    "              lambda_v=0,\n",
    "              kernel='linear',\n",
    "              epsilon=0.0001,\n",
    "              optimizer=tf.train.AdamOptimizer(),\n",
    "              seed=12345):\n",
    "\n",
    "    # Extract info about shapes etc from the training data\n",
    "    num_items = observed_features.shape[0]\n",
    "    num_features = observed_features.shape[1]\n",
    "    num_classes = labels.shape[1]\n",
    " \n",
    "    v = tf.Variable(tf.truncated_normal([num_classes, num_features], stddev=0.2, mean=0, seed=seed), name=\"hyperplane\")\n",
    "    \n",
    "    x = tf.placeholder(tf.float32, [1, num_features])\n",
    "    y = tf.placeholder(tf.float32, [1, num_classes])\n",
    "    x_norm = tf.nn.l2_normalize(x,dim=0)\n",
    "    \n",
    "    if kernel=='linear':\n",
    "        ip = tf.matmul(v, tf.transpose(x))\n",
    "    elif kernel=='gaussian':\n",
    "        ip = tf.reshape(tf.exp(-tf.reduce_sum(tf.square(tf.sub(v, x)), reduction_indices=1)/10), [num_classes, 1])\n",
    "    else:\n",
    "        raise Exception(\"unknown kernel: %s\" % kernel)\n",
    "\n",
    "\n",
    "    pred = tf.nn.softmax(tf.transpose(ip))\n",
    "    cost = tf.reduce_mean(-tf.reduce_sum(y*tf.log(pred + 0.0000000001), reduction_indices=1) + # this was causing nans if pred == 0\n",
    "                          lambda_v*tf.nn.l2_loss(v)) # regularization for v\n",
    "    \n",
    "    norm = tf.nn.l2_loss(v)\n",
    "    optimize = optimizer.minimize(cost)\n",
    "\n",
    "    init = tf.initialize_all_variables()\n",
    "    \n",
    "    with tf.Session() as sess:\n",
    "        sess.run(init)\n",
    "        last_cost = 1000000\n",
    "        for iter in range(0, max_iter):\n",
    "            avg_cost = 0\n",
    "            \n",
    "            for i in range(num_items):\n",
    "                _, c, n = sess.run([optimize, cost, norm],\n",
    "                                   feed_dict={x:observed_features[i].reshape(1,num_features), y:labels[i].reshape(1,num_classes)})\n",
    "                avg_cost += c / num_items\n",
    "            if verbose:\n",
    "                print(\"epoch: %s, cost: %s, norm: %s\" % (iter+1, avg_cost, n))\n",
    "\n",
    "            # check for convergence\n",
    "            if abs(avg_cost-last_cost)/avg_cost < epsilon:\n",
    "                break\n",
    "                \n",
    "            last_cost = avg_cost\n",
    "            \n",
    "        if verbose:\n",
    "            print(\"optimization finished\")\n",
    "        # test prediction\n",
    "        predictions = []\n",
    "        total_costs = 0\n",
    "        for i in range(observed_features_validation.shape[0]):\n",
    "            p, c = sess.run([pred, cost], feed_dict={x:observed_features_validation[i].reshape(1, num_features), y:labels_validation[i].reshape(1, num_classes)})\n",
    "            predictions.append(p)\n",
    "            total_costs += c\n",
    "        return np.array([z[0,:] for z in predictions]), total_costs/observed_features_validation.shape[0], sess.run([norm])"
   ]
  },
  {
   "cell_type": "code",
   "execution_count": 121,
   "metadata": {
    "collapsed": false
   },
   "outputs": [],
   "source": [
    "# use this data for now\n",
    "\n",
    "categories = ['alt.atheism', 'soc.religion.christian', 'comp.graphics', 'sci.med']\n",
    "\n",
    "ng = datasets.fetch_20newsgroups (categories=categories, shuffle=True)\n",
    "encoder = OneHotEncoder(sparse=False)\n",
    "labels = encoder.fit_transform(ng.target.reshape(-1,1))\n",
    "\n",
    "tfidf = TfidfVectorizer(decode_error=False, min_df=5)\n",
    "\n",
    "X_train, X_test, y_train, y_test = train_test_split(ng.data, labels, test_size=.3)\n",
    "X_train = tfidf.fit_transform(X_train).todense()\n",
    "X_test = tfidf.transform(X_test).todense()\n"
   ]
  },
  {
   "cell_type": "code",
   "execution_count": 124,
   "metadata": {
    "collapsed": false
   },
   "outputs": [
    {
     "name": "stdout",
     "output_type": "stream",
     "text": [
      "epoch: 1, cost: 1.42283913521, norm: 11.4784\n",
      "epoch: 2, cost: 1.37272652869, norm: 7.24813\n",
      "epoch: 3, cost: 1.36564107822, norm: 6.92574\n",
      "epoch: 4, cost: 1.36451845618, norm: 7.02357\n",
      "epoch: 5, cost: 1.36431197119, norm: 7.13067\n",
      "epoch: 6, cost: 1.36426895355, norm: 7.2063\n",
      "optimization finished\n",
      "cost: 1.36253122348, norm: [7.2149992]\n",
      "class 0 AUC: 0.975390709789\n",
      "class 1 AUC: 0.952663270032\n",
      "class 2 AUC: 0.994666502559\n",
      "class 3 AUC: 0.899048969224\n",
      "overall AUC: 0.956998434202\n"
     ]
    }
   ],
   "source": [
    "\n",
    "predictions, test_costs, norm = factorize(X_train, y_train, X_test, y_test, verbose=True, lambda_v=0.001, max_iter=100, kernel='gaussian')\n",
    "print(\"cost: %s, norm: %s\") % (test_costs, norm)\n",
    "for i in range(y_train.shape[1]):\n",
    "    print(\"class %s AUC: %s\") % (i, roc_auc_score(y_test[:,i], predictions[:,i]))\n",
    "print(\"overall AUC: %s\") % roc_auc_score(y_test, predictions, average=\"weighted\")"
   ]
  },
  {
   "cell_type": "code",
   "execution_count": null,
   "metadata": {
    "collapsed": true
   },
   "outputs": [],
   "source": []
  }
 ],
 "metadata": {
  "kernelspec": {
   "display_name": "Python 2",
   "language": "python",
   "name": "python2"
  },
  "language_info": {
   "codemirror_mode": {
    "name": "ipython",
    "version": 2
   },
   "file_extension": ".py",
   "mimetype": "text/x-python",
   "name": "python",
   "nbconvert_exporter": "python",
   "pygments_lexer": "ipython2",
   "version": "2.7.11"
  }
 },
 "nbformat": 4,
 "nbformat_minor": 0
}
