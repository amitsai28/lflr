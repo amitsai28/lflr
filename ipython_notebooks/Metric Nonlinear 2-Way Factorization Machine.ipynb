{
 "cells": [
  {
   "cell_type": "markdown",
   "metadata": {},
   "source": [
    "goal:\n",
    "=====\n",
    "\n",
    "basically a factorization machine with cross entropy loss with an additional \"metric\" kernal matrix and some non linearities + biases"
   ]
  },
  {
   "cell_type": "code",
   "execution_count": 1,
   "metadata": {
    "collapsed": false
   },
   "outputs": [],
   "source": [
    "# import this stuff\n",
    "import time\n",
    "import sys\n",
    "from pylab import *\n",
    "from scipy import sparse\n",
    "import numpy as np\n",
    "\n",
    "import tensorflow as tf\n",
    "\n",
    "from sklearn.cross_validation import train_test_split\n",
    "from sklearn.preprocessing import OneHotEncoder\n",
    "from sklearn.feature_extraction import FeatureHasher\n",
    "from sklearn.feature_extraction.text import TfidfVectorizer\n",
    "from sklearn import datasets\n",
    "from sklearn.metrics import roc_auc_score, f1_score, confusion_matrix"
   ]
  },
  {
   "cell_type": "code",
   "execution_count": 5,
   "metadata": {
    "collapsed": false
   },
   "outputs": [],
   "source": [
    "def factorize(observed_features,\n",
    "              labels,\n",
    "              observed_features_validation,\n",
    "              labels_validation,\n",
    "              rank,\n",
    "              max_iter=100,\n",
    "              verbose=False,\n",
    "              lambda_v=0,\n",
    "              lambda_k=0,\n",
    "              lambda_w=0,\n",
    "              lambda_constants=0,\n",
    "              epsilon=0.001,\n",
    "              optimizer=tf.train.AdamOptimizer(),\n",
    "              seed=12345):\n",
    "\n",
    "    # Extract info about shapes etc from the training data\n",
    "    num_items = observed_features.shape[0]\n",
    "    num_features = observed_features.shape[1]\n",
    " \n",
    "    V = tf.Variable(tf.truncated_normal([rank, num_features], stddev=0.2, mean=0, seed=seed), name=\"feature_explainers\")\n",
    "    K = tf.Variable(tf.truncated_normal([rank, rank], stddev=0.2, mean=0, seed=seed), name=\"metric_matrix\")\n",
    "    \n",
    "    w = tf.Variable(tf.truncated_normal([1, num_features], stddev=0.2, mean=0, seed=seed), name=\"hyperplane\")\n",
    "    b_one = tf.Variable(tf.truncated_normal([1, 1], stddev=0.2, mean=0, seed=seed), name=\"b_one\")\n",
    "    b_two = tf.Variable(tf.truncated_normal([rank, 1], stddev=0.2, mean=0, seed=seed), name=\"b_two\")\n",
    "   \n",
    "    x = tf.placeholder(tf.float32, [None, num_features])\n",
    "    y = tf.placeholder(tf.float32)\n",
    "    \n",
    "    norm_x = tf.nn.l2_normalize(x, dim=0)\n",
    "    Vx = tf.tanh(tf.matmul(V, tf.transpose(norm_x)))\n",
    "    right_kern = tf.matmul(K, Vx)\n",
    "    \n",
    "    full_kern = tf.matmul(tf.transpose(Vx), right_kern)\n",
    "    linear = tf.matmul(w, tf.transpose(norm_x))\n",
    "\n",
    "    pred = tf.reduce_sum(tf.sigmoid(linear + full_kern + b_one))\n",
    "    \n",
    "    cost = tf.reduce_mean(-y*tf.log(pred + 0.0000000001) - (1-y)*tf.log((1-pred + 0.0000000001)) + \n",
    "            lambda_v*tf.nn.l2_loss(V) +\n",
    "            lambda_k*tf.nn.l2_loss(K) +\n",
    "            lambda_w*tf.nn.l2_loss(w) +\n",
    "            lambda_constants*(tf.nn.l2_loss(b_one) + tf.nn.l2_loss(b_two)))\n",
    "    optimize = optimizer.minimize(cost)\n",
    "    norm = tf.reduce_mean(tf.nn.l2_loss(V))\n",
    "    \n",
    "    init = tf.initialize_all_variables()\n",
    "    \n",
    "    with tf.Session() as sess:\n",
    "        sess.run(init)\n",
    "        last_cost = 1000000\n",
    "        for iter in range(0, max_iter):\n",
    "            avg_cost = 0\n",
    "            \n",
    "            for i in range(num_items):\n",
    "                _, c, n = sess.run([optimize, cost, norm],\n",
    "                              feed_dict={x:observed_features[i].reshape(1, num_features), y:labels[i]})\n",
    "                avg_cost += c / num_items\n",
    "            if verbose:\n",
    "                print(\"epoch: %s, cost: %s\" % (iter+1, avg_cost))\n",
    "\n",
    "            # check for convergence\n",
    "            if abs(avg_cost-last_cost)/avg_cost < epsilon:\n",
    "                break\n",
    "                \n",
    "            last_cost = avg_cost\n",
    "            \n",
    "        if verbose:\n",
    "            print(\"optimization finished\")\n",
    "        predictions = []\n",
    "        total_costs = 0\n",
    "        for i in range(observed_features_validation.shape[0]):\n",
    "            p, c = sess.run([pred, cost], feed_dict={x:observed_features_validation[i].reshape(1, num_features), y:labels_validation[i]})\n",
    "            predictions.append(p)\n",
    "            total_costs += c\n",
    "        return predictions, total_costs/observed_features_validation.shape[0], sess.run([norm])"
   ]
  },
  {
   "cell_type": "code",
   "execution_count": 6,
   "metadata": {
    "collapsed": false
   },
   "outputs": [],
   "source": [
    "# use this data for now\n",
    "\n",
    "categories = ['alt.atheism', 'soc.religion.christian', 'comp.graphics', 'sci.med']\n",
    "\n",
    "ng = datasets.fetch_20newsgroups (categories=categories, shuffle=True)\n",
    "labels = [1 if y == 2 else 0 for y in ng.target.reshape(-1,1)]\n",
    "\n",
    "tfidf = TfidfVectorizer(decode_error=False, min_df=5)\n",
    "\n",
    "X_train, X_test, y_train, y_test = train_test_split(ng.data, labels, test_size=.3)\n",
    "X_train = tfidf.fit_transform(X_train).todense()\n",
    "X_test = tfidf.transform(X_test).todense()\n"
   ]
  },
  {
   "cell_type": "code",
   "execution_count": 7,
   "metadata": {
    "collapsed": false
   },
   "outputs": [
    {
     "name": "stdout",
     "output_type": "stream",
     "text": [
      "epoch: 1, cost: 1.91015329636\n",
      "epoch: 2, cost: 0.307251415972\n",
      "epoch: 3, cost: 0.113321662633\n",
      "epoch: 4, cost: 0.0783280579537\n",
      "epoch: 5, cost: 0.0601871775002\n",
      "epoch: 6, cost: 0.049063640731\n",
      "epoch: 7, cost: 0.0326555883105\n",
      "epoch: 8, cost: 0.023102213897\n",
      "epoch: 9, cost: 0.0269521611122\n",
      "epoch: 10, cost: 0.0278797101783\n",
      "epoch: 11, cost: 0.0137090436419\n",
      "epoch: 12, cost: 0.0111679183181\n",
      "epoch: 13, cost: 0.00930694758596\n",
      "epoch: 14, cost: 0.00621116050623\n",
      "epoch: 15, cost: 0.00514938197495\n",
      "epoch: 16, cost: 0.00271649706442\n",
      "epoch: 17, cost: 0.00153523851702\n",
      "epoch: 18, cost: 0.000915212788428\n",
      "epoch: 19, cost: 0.000632242187385\n",
      "epoch: 20, cost: 0.000453419271512\n",
      "epoch: 21, cost: 0.00032883057859\n",
      "epoch: 22, cost: 0.000240453385434\n",
      "epoch: 23, cost: 0.000176941198825\n",
      "epoch: 24, cost: 0.00013102228579\n",
      "epoch: 25, cost: 9.75193899209e-05\n",
      "epoch: 26, cost: 7.29390050157e-05\n",
      "epoch: 27, cost: 5.4766117771e-05\n",
      "epoch: 28, cost: 4.12939196065e-05\n",
      "epoch: 29, cost: 3.12327421895e-05\n",
      "epoch: 30, cost: 2.37113803998e-05\n",
      "epoch: 31, cost: 1.80546033873e-05\n",
      "epoch: 32, cost: 1.38008342146e-05\n",
      "epoch: 33, cost: 1.05783629465e-05\n",
      "epoch: 34, cost: 8.14151518313e-06\n",
      "epoch: 35, cost: 6.28920928295e-06\n",
      "epoch: 36, cost: 4.87926301722e-06\n",
      "epoch: 37, cost: 3.80533791563e-06\n",
      "epoch: 38, cost: 2.98344599401e-06\n",
      "epoch: 39, cost: 2.35524596909e-06\n",
      "epoch: 40, cost: 1.87295072238e-06\n",
      "epoch: 41, cost: 1.50269958159e-06\n",
      "epoch: 42, cost: 1.21863978266e-06\n",
      "epoch: 43, cost: 9.9932798421e-07\n",
      "epoch: 44, cost: 8.29718827206e-07\n",
      "epoch: 45, cost: 6.98582881179e-07\n",
      "epoch: 46, cost: 5.98711786399e-07\n",
      "epoch: 47, cost: 5.20043143512e-07\n",
      "epoch: 48, cost: 4.59540912776e-07\n",
      "epoch: 49, cost: 4.11652962609e-07\n",
      "epoch: 50, cost: 3.75473656138e-07\n",
      "epoch: 51, cost: 3.46241724852e-07\n",
      "epoch: 52, cost: 3.2386112797e-07\n",
      "epoch: 53, cost: 3.06917220769e-07\n",
      "epoch: 54, cost: 2.93718172844e-07\n",
      "epoch: 55, cost: 2.82722655451e-07\n",
      "epoch: 56, cost: 2.74178004424e-07\n",
      "epoch: 57, cost: 2.67701822139e-07\n",
      "epoch: 58, cost: 2.62058506289e-07\n",
      "epoch: 59, cost: 2.57729834367e-07\n",
      "epoch: 60, cost: 2.54355048743e-07\n",
      "epoch: 61, cost: 2.52057248062e-07\n",
      "epoch: 62, cost: 2.50154609832e-07\n",
      "epoch: 63, cost: 2.48223119788e-07\n",
      "epoch: 64, cost: 2.45922525301e-07\n",
      "epoch: 65, cost: 2.4575394221e-07\n",
      "optimization finished\n",
      "rank: 10, cost: 0.218408117377, overall AUC: 0.991320647543, norm: [2.4548477e-05]\n"
     ]
    }
   ],
   "source": [
    "r = 10\n",
    "predictions, test_costs, norm = factorize(X_train, y_train, X_test, y_test, r, verbose=True, lambda_v=0.01, max_iter=300)\n",
    "print(\"rank: %s, cost: %s, overall AUC: %s, norm: %s\") % (r, test_costs, roc_auc_score(y_test, predictions, average=\"weighted\"), norm)"
   ]
  },
  {
   "cell_type": "markdown",
   "metadata": {},
   "source": [
    "## "
   ]
  },
  {
   "cell_type": "code",
   "execution_count": null,
   "metadata": {
    "collapsed": true
   },
   "outputs": [],
   "source": []
  }
 ],
 "metadata": {
  "kernelspec": {
   "display_name": "Python 2",
   "language": "python",
   "name": "python2"
  },
  "language_info": {
   "codemirror_mode": {
    "name": "ipython",
    "version": 2
   },
   "file_extension": ".py",
   "mimetype": "text/x-python",
   "name": "python",
   "nbconvert_exporter": "python",
   "pygments_lexer": "ipython2",
   "version": "2.7.11"
  }
 },
 "nbformat": 4,
 "nbformat_minor": 0
}
