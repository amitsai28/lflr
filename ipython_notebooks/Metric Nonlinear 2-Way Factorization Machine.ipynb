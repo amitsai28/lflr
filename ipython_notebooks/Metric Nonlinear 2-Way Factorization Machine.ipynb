{
 "cells": [
  {
   "cell_type": "markdown",
   "metadata": {},
   "source": [
    "goal:\n",
    "=====\n",
    "\n",
    "basically a factorization machine with cross entropy loss with an additional \"metric\" kernal matrix and some non linearities + biases"
   ]
  },
  {
   "cell_type": "code",
   "execution_count": 1,
   "metadata": {
    "collapsed": false
   },
   "outputs": [],
   "source": [
    "# import this stuff\n",
    "import time\n",
    "import sys\n",
    "from pylab import *\n",
    "from scipy import sparse\n",
    "import numpy as np\n",
    "\n",
    "import tensorflow as tf\n",
    "\n",
    "from sklearn.cross_validation import train_test_split\n",
    "from sklearn.preprocessing import OneHotEncoder\n",
    "from sklearn.feature_extraction import FeatureHasher\n",
    "from sklearn.feature_extraction.text import TfidfVectorizer\n",
    "from sklearn import datasets\n",
    "from sklearn.metrics import roc_auc_score, f1_score, confusion_matrix"
   ]
  },
  {
   "cell_type": "code",
   "execution_count": 5,
   "metadata": {
    "collapsed": false
   },
   "outputs": [],
   "source": [
    "def factorize(observed_features,\n",
    "              labels,\n",
    "              observed_features_validation,\n",
    "              labels_validation,\n",
    "              rank,\n",
    "              max_iter=100,\n",
    "              verbose=False,\n",
    "              lambda_v=0,\n",
    "              lambda_k=0,\n",
    "              lambda_w=0,\n",
    "              lambda_constants=0,\n",
    "              epsilon=0.001,\n",
    "              optimizer=tf.train.AdamOptimizer(),\n",
    "              seed=12345):\n",
    "\n",
    "    # Extract info about shapes etc from the training data\n",
    "    num_items = observed_features.shape[0]\n",
    "    num_features = observed_features.shape[1]\n",
    " \n",
    "    V = tf.Variable(tf.truncated_normal([rank, num_features], stddev=0.2, mean=0, seed=seed), name=\"feature_explainers\")\n",
    "    K = tf.Variable(tf.truncated_normal([rank, rank], stddev=0.2, mean=0, seed=seed), name=\"metric_matrix\")\n",
    "    \n",
    "    w = tf.Variable(tf.truncated_normal([1, num_features], stddev=0.2, mean=0, seed=seed), name=\"hyperplane\")\n",
    "    b_one = tf.Variable(tf.truncated_normal([1, 1], stddev=0.2, mean=0, seed=seed), name=\"b_one\")\n",
    "    b_two = tf.Variable(tf.truncated_normal([rank, 1], stddev=0.2, mean=0, seed=seed), name=\"b_two\")\n",
    "   \n",
    "    x = tf.placeholder(tf.float32, [None, num_features])\n",
    "    y = tf.placeholder(tf.float32)\n",
    "    \n",
    "    norm_x = tf.nn.l2_normalize(x, dim=0)\n",
    "    Vx = tf.tanh(tf.matmul(V, tf.transpose(norm_x)))\n",
    "    right_kern = tf.matmul(K, Vx)\n",
    "    \n",
    "    full_kern = tf.matmul(tf.transpose(Vx), right_kern)\n",
    "    linear = tf.matmul(w, tf.transpose(norm_x))\n",
    "\n",
    "    pred = tf.reduce_sum(tf.sigmoid(linear + full_kern + b_one))\n",
    "    \n",
    "    cost = tf.reduce_mean(-y*tf.log(pred + 0.0000000001) - (1-y)*tf.log((1-pred + 0.0000000001)) + \n",
    "            lambda_v*tf.nn.l2_loss(V) +\n",
    "            lambda_k*tf.nn.l2_loss(K) +\n",
    "            lambda_w*tf.nn.l2_loss(w) +\n",
    "            lambda_constants*(tf.nn.l2_loss(b_one) + tf.nn.l2_loss(b_two)))\n",
    "    optimize = optimizer.minimize(cost)\n",
    "    norm = tf.reduce_mean(tf.nn.l2_loss(V))\n",
    "    \n",
    "    init = tf.initialize_all_variables()\n",
    "    \n",
    "    with tf.Session() as sess:\n",
    "        sess.run(init)\n",
    "        last_cost = 1000000\n",
    "        for iter in range(0, max_iter):\n",
    "            avg_cost = 0\n",
    "            \n",
    "            for i in range(num_items):\n",
    "                _, c, n = sess.run([optimize, cost, norm],\n",
    "                              feed_dict={x:observed_features[i].reshape(1, num_features), y:labels[i]})\n",
    "                avg_cost += c / num_items\n",
    "            if verbose:\n",
    "                print(\"epoch: %s, cost: %s\" % (iter+1, avg_cost))\n",
    "\n",
    "            # check for convergence\n",
    "            if abs(avg_cost-last_cost)/avg_cost < epsilon:\n",
    "                break\n",
    "                \n",
    "            last_cost = avg_cost\n",
    "            \n",
    "        if verbose:\n",
    "            print(\"optimization finished\")\n",
    "        predictions = []\n",
    "        total_costs = 0\n",
    "        for i in range(observed_features_validation.shape[0]):\n",
    "            p, c = sess.run([pred, cost], feed_dict={x:observed_features_validation[i].reshape(1, num_features), y:labels_validation[i]})\n",
    "            predictions.append(p)\n",
    "            total_costs += c\n",
    "        return predictions, total_costs/observed_features_validation.shape[0], sess.run([norm])"
   ]
  },
  {
   "cell_type": "code",
   "execution_count": 6,
   "metadata": {
    "collapsed": false
   },
   "outputs": [],
   "source": [
    "# use this data for now\n",
    "\n",
    "categories = ['alt.atheism', 'soc.religion.christian', 'comp.graphics', 'sci.med']\n",
    "\n",
    "ng = datasets.fetch_20newsgroups (categories=categories, shuffle=True)\n",
    "labels = [1 if y == 2 else 0 for y in ng.target.reshape(-1,1)]\n",
    "\n",
    "tfidf = TfidfVectorizer(decode_error=False, min_df=5)\n",
    "\n",
    "X_train, X_test, y_train, y_test = train_test_split(ng.data, labels, test_size=.3)\n",
    "X_train = tfidf.fit_transform(X_train).todense()\n",
    "X_test = tfidf.transform(X_test).todense()\n"
   ]
  },
  {
   "cell_type": "code",
   "execution_count": 8,
   "metadata": {
    "collapsed": false
   },
   "outputs": [
    {
     "name": "stdout",
     "output_type": "stream",
     "text": [
      "epoch: 1, cost: 8.06804964622\n",
      "epoch: 2, cost: 0.292998737988\n",
      "epoch: 3, cost: 0.166419864239\n",
      "epoch: 4, cost: 0.0933687174533\n",
      "epoch: 5, cost: 0.0419383700393\n",
      "epoch: 6, cost: 0.0204842832182\n",
      "epoch: 7, cost: 0.0131450449103\n",
      "epoch: 8, cost: 0.0088080767331\n",
      "epoch: 9, cost: 0.0060397785983\n",
      "epoch: 10, cost: 0.00420779658213\n",
      "epoch: 11, cost: 0.00296819158729\n",
      "epoch: 12, cost: 0.00212252500837\n",
      "epoch: 13, cost: 0.00153097293426\n",
      "epoch: 14, cost: 0.00111079418304\n",
      "epoch: 15, cost: 0.000811773251853\n",
      "epoch: 16, cost: 0.000596262004962\n",
      "epoch: 17, cost: 0.00043947763597\n",
      "epoch: 18, cost: 0.000325578669957\n",
      "epoch: 19, cost: 0.000242222894752\n",
      "epoch: 20, cost: 0.000180891693144\n",
      "epoch: 21, cost: 0.000135705783547\n",
      "epoch: 22, cost: 0.000102296504003\n",
      "epoch: 23, cost: 7.74272619878e-05\n",
      "epoch: 24, cost: 5.89316722398e-05\n",
      "epoch: 25, cost: 4.50951850216e-05\n",
      "epoch: 26, cost: 3.47300389232e-05\n",
      "epoch: 27, cost: 2.69397406511e-05\n",
      "epoch: 28, cost: 2.10719897344e-05\n",
      "epoch: 29, cost: 1.66431086683e-05\n",
      "epoch: 30, cost: 1.3287506541e-05\n",
      "epoch: 31, cost: 1.07481175224e-05\n",
      "epoch: 32, cost: 8.8193026114e-06\n",
      "epoch: 33, cost: 7.35042495786e-06\n",
      "epoch: 34, cost: 6.23090272999e-06\n",
      "epoch: 35, cost: 5.37664972697e-06\n",
      "epoch: 36, cost: 4.7311957557e-06\n",
      "epoch: 37, cost: 4.2270192049e-06\n",
      "epoch: 38, cost: 3.84392462853e-06\n",
      "epoch: 39, cost: 3.55880558505e-06\n",
      "epoch: 40, cost: 3.32781280368e-06\n",
      "epoch: 41, cost: 3.15567781512e-06\n",
      "epoch: 42, cost: 3.02296430489e-06\n",
      "epoch: 43, cost: 2.92119466538e-06\n",
      "epoch: 44, cost: 2.84273150987e-06\n",
      "epoch: 45, cost: 2.78173301277e-06\n",
      "epoch: 46, cost: 2.73630997085e-06\n",
      "epoch: 47, cost: 2.69974367127e-06\n",
      "epoch: 48, cost: 2.67418723418e-06\n",
      "epoch: 49, cost: 2.64816529881e-06\n",
      "epoch: 50, cost: 2.63329569605e-06\n",
      "epoch: 51, cost: 2.62244724051e-06\n",
      "epoch: 52, cost: 2.60779167874e-06\n",
      "epoch: 53, cost: 2.6041815167e-06\n",
      "epoch: 54, cost: 2.59834445905e-06\n",
      "epoch: 55, cost: 2.58908394181e-06\n",
      "epoch: 56, cost: 2.59114742617e-06\n",
      "optimization finished\n",
      "rank: 10, cost: 0.215183652789, overall AUC: 0.991082078955, norm: [2.7182257e-05]\n"
     ]
    }
   ],
   "source": [
    "r = 10\n",
    "predictions, test_costs, norm = factorize(X_train, y_train, X_test, y_test, r, verbose=True, lambda_v=0.1, max_iter=300)\n",
    "print(\"rank: %s, cost: %s, overall AUC: %s, norm: %s\") % (r, test_costs, roc_auc_score(y_test, predictions, average=\"weighted\"), norm)"
   ]
  },
  {
   "cell_type": "markdown",
   "metadata": {},
   "source": [
    "## "
   ]
  },
  {
   "cell_type": "code",
   "execution_count": null,
   "metadata": {
    "collapsed": true
   },
   "outputs": [],
   "source": []
  }
 ],
 "metadata": {
  "kernelspec": {
   "display_name": "Python 2",
   "language": "python",
   "name": "python2"
  },
  "language_info": {
   "codemirror_mode": {
    "name": "ipython",
    "version": 2
   },
   "file_extension": ".py",
   "mimetype": "text/x-python",
   "name": "python",
   "nbconvert_exporter": "python",
   "pygments_lexer": "ipython2",
   "version": "2.7.11"
  }
 },
 "nbformat": 4,
 "nbformat_minor": 0
}
