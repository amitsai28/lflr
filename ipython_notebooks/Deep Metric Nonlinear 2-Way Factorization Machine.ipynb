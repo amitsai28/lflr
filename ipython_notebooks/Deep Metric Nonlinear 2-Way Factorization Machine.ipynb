{
 "cells": [
  {
   "cell_type": "markdown",
   "metadata": {},
   "source": [
    "goal:\n",
    "=====\n",
    "\n",
    "basically a factorization machine with cross entropy loss where interaction effects come from deep nonlinear relu-activated embeddings and with an additional \"metric\" kernal matrix.\n",
    "\n",
    "todo: dropout. currently no regularization on the interaction layers in the cost function. can handle with FTRL optimization"
   ]
  },
  {
   "cell_type": "code",
   "execution_count": 1,
   "metadata": {
    "collapsed": false
   },
   "outputs": [],
   "source": [
    "# import this stuff\n",
    "import time\n",
    "import sys\n",
    "from pylab import *\n",
    "from scipy import sparse\n",
    "import numpy as np\n",
    "\n",
    "import tensorflow as tf\n",
    "\n",
    "from sklearn.cross_validation import train_test_split\n",
    "from sklearn.preprocessing import OneHotEncoder\n",
    "from sklearn.feature_extraction import FeatureHasher\n",
    "from sklearn.feature_extraction.text import TfidfVectorizer\n",
    "from sklearn import datasets\n",
    "from sklearn.metrics import roc_auc_score, f1_score, confusion_matrix"
   ]
  },
  {
   "cell_type": "code",
   "execution_count": 11,
   "metadata": {
    "collapsed": false
   },
   "outputs": [],
   "source": [
    "def make_embeddings(x, rank, num_features, depth=1, seed=12345):\n",
    "    \"\"\"\n",
    "      assumes that all hidden layers are width `rank`\n",
    "    \"\"\"\n",
    "    assert depth > 0\n",
    "    V = tf.Variable(tf.truncated_normal([rank, num_features], stddev=0.2, mean=0, seed=seed), name=\"v_1\")\n",
    "    b = tf.Variable(tf.truncated_normal([rank, 1], stddev=0.2, mean=0, seed=seed), name=\"b_1\")\n",
    "    Vx = tf.nn.relu(tf.matmul(V, x) + b)\n",
    "    for i in range(depth - 1):\n",
    "        V = tf.Variable(tf.truncated_normal([rank, rank], stddev=0.2, mean=0, seed=seed), name=\"v_%s\" % i)\n",
    "        b = tf.Variable(tf.truncated_normal([rank, 1], stddev=0.2, mean=0, seed=seed), name=\"b_%s\" % i)\n",
    "        Vx = tf.nn.relu(tf.matmul(V, Vx) + b)\n",
    "\n",
    "    return Vx\n",
    "\n",
    "def factorize(observed_features,\n",
    "              labels,\n",
    "              observed_features_validation,\n",
    "              labels_validation,\n",
    "              rank,\n",
    "              max_iter=100,\n",
    "              verbose=False,\n",
    "              lambda_v=0,\n",
    "              lambda_k=0,\n",
    "              lambda_w=0,\n",
    "              lambda_constants=0,\n",
    "              epsilon=0.001,\n",
    "              optimizer=tf.train.AdamOptimizer(),\n",
    "              depth=3,\n",
    "              seed=12345):\n",
    "\n",
    "    # Extract info about shapes etc from the training data\n",
    "    num_items = observed_features.shape[0]\n",
    "    num_features = observed_features.shape[1]\n",
    "    K = tf.Variable(tf.truncated_normal([rank, rank], stddev=0.2, mean=0, seed=seed), name=\"metric_matrix\")\n",
    "    \n",
    "    w = tf.Variable(tf.truncated_normal([1, num_features], stddev=0.2, mean=0, seed=seed), name=\"hyperplane\")\n",
    "    b = tf.Variable(tf.truncated_normal([1, 1], stddev=0.2, mean=0, seed=seed), name=\"b_one\")\n",
    "    \n",
    "    x = tf.placeholder(tf.float32, [None, num_features])\n",
    "    y = tf.placeholder(tf.float32)\n",
    "    \n",
    "    norm_x = tf.nn.l2_normalize(x, dim=0)\n",
    "    \n",
    "    Vx = make_embeddings(tf.transpose(norm_x), rank, num_features, depth=depth, seed=seed)\n",
    "    right_kern = tf.matmul(K, Vx)\n",
    "    \n",
    "    full_kern = tf.matmul(tf.transpose(Vx), right_kern)\n",
    "    linear = tf.matmul(w, tf.transpose(norm_x))\n",
    "\n",
    "    pred = tf.reduce_sum(tf.sigmoid(linear + full_kern + b))\n",
    "    \n",
    "    # todo: dropout. currently no regularization on the interaction layers in the cost functino\n",
    "    # can handle with FTRL optimization\n",
    "    cost = tf.reduce_mean(-y*tf.log(pred + 0.0000000001) - (1-y)*tf.log((1-pred + 0.0000000001)) + \n",
    "            lambda_k*tf.nn.l2_loss(K) +\n",
    "            lambda_w*tf.nn.l2_loss(w) +\n",
    "            lambda_constants*tf.nn.l2_loss(b))\n",
    "    optimize = optimizer.minimize(cost)\n",
    "    norm = tf.reduce_mean(tf.nn.l2_loss(w))\n",
    "    \n",
    "    init = tf.initialize_all_variables()\n",
    "    \n",
    "    with tf.Session() as sess:\n",
    "        sess.run(init)\n",
    "        last_cost = 1000000\n",
    "        for iter in range(0, max_iter):\n",
    "            avg_cost = 0\n",
    "            \n",
    "            for i in range(num_items):\n",
    "                _, c, n = sess.run([optimize, cost, norm],\n",
    "                              feed_dict={x:observed_features[i].reshape(1, num_features), y:labels[i]})\n",
    "                avg_cost += c / num_items\n",
    "            if verbose:\n",
    "                print(\"epoch: %s, cost: %s\" % (iter+1, avg_cost))\n",
    "\n",
    "            # check for convergence\n",
    "            if abs(avg_cost-last_cost)/avg_cost < epsilon:\n",
    "                break\n",
    "                \n",
    "            last_cost = avg_cost\n",
    "            \n",
    "        if verbose:\n",
    "            print(\"optimization finished\")\n",
    "        predictions = []\n",
    "        total_costs = 0\n",
    "        for i in range(observed_features_validation.shape[0]):\n",
    "            p, c = sess.run([pred, cost], feed_dict={x:observed_features_validation[i].reshape(1, num_features), y:labels_validation[i]})\n",
    "            predictions.append(p)\n",
    "            total_costs += c\n",
    "        return predictions, total_costs/observed_features_validation.shape[0], sess.run([norm])"
   ]
  },
  {
   "cell_type": "code",
   "execution_count": 12,
   "metadata": {
    "collapsed": false
   },
   "outputs": [],
   "source": [
    "# use this data for now\n",
    "\n",
    "categories = ['alt.atheism', 'soc.religion.christian', 'comp.graphics', 'sci.med']\n",
    "\n",
    "ng = datasets.fetch_20newsgroups (categories=categories, shuffle=True)\n",
    "labels = [1 if y == 2 else 0 for y in ng.target.reshape(-1,1)]\n",
    "\n",
    "tfidf = TfidfVectorizer(decode_error=False, min_df=5)\n",
    "\n",
    "X_train, X_test, y_train, y_test = train_test_split(ng.data, labels, test_size=.3)\n",
    "X_train = tfidf.fit_transform(X_train).todense()\n",
    "X_test = tfidf.transform(X_test).todense()\n"
   ]
  },
  {
   "cell_type": "code",
   "execution_count": 13,
   "metadata": {
    "collapsed": false
   },
   "outputs": [
    {
     "name": "stdout",
     "output_type": "stream",
     "text": [
      "epoch: 1, cost: 0.33360196478\n",
      "epoch: 2, cost: 0.0401097349682\n",
      "epoch: 3, cost: 0.00931769804643\n",
      "epoch: 4, cost: 0.00247838839455\n",
      "epoch: 5, cost: 0.000511754474805\n",
      "epoch: 6, cost: 0.000126325859087\n",
      "epoch: 7, cost: 4.04279771517e-05\n",
      "epoch: 8, cost: 1.0098687531e-05\n",
      "epoch: 9, cost: 2.85424085244e-06\n",
      "epoch: 10, cost: 8.69213185562e-07\n",
      "epoch: 11, cost: 2.59260408291e-07\n",
      "epoch: 12, cost: 8.90110950503e-08\n",
      "epoch: 13, cost: 3.41245779331e-08\n",
      "epoch: 14, cost: 1.30231913253e-08\n",
      "epoch: 15, cost: 5.20927401194e-09\n",
      "epoch: 16, cost: 1.92516616005e-09\n",
      "epoch: 17, cost: 6.79470328429e-10\n",
      "epoch: 18, cost: 2.64238450556e-10\n",
      "epoch: 19, cost: 7.54967001588e-11\n",
      "epoch: 20, cost: 7.54967001588e-11\n",
      "optimization finished\n",
      "rank: 10, cost: 0.533316462163, overall AUC: 0.96627069576, norm: [111.30756]\n"
     ]
    }
   ],
   "source": [
    "r = 10\n",
    "predictions, test_costs, norm = factorize(X_train, y_train, X_test, y_test, r, verbose=True, lambda_v=0.1, max_iter=300)\n",
    "print(\"rank: %s, cost: %s, overall AUC: %s, norm: %s\") % (r, test_costs, roc_auc_score(y_test, predictions, average=\"weighted\"), norm)"
   ]
  },
  {
   "cell_type": "markdown",
   "metadata": {},
   "source": [
    "## "
   ]
  },
  {
   "cell_type": "code",
   "execution_count": null,
   "metadata": {
    "collapsed": false
   },
   "outputs": [
    {
     "name": "stdout",
     "output_type": "stream",
     "text": [
      "epoch: 1, cost: 0.163082238403\n",
      "epoch: 2, cost: 0.0300150069038\n",
      "epoch: 3, cost: 0.020797190683\n",
      "epoch: 4, cost: 0.0161998612776\n",
      "epoch: 5, cost: 0.0133454948845\n",
      "epoch: 6, cost: 0.0113824729583\n",
      "epoch: 7, cost: 0.00994217756297\n",
      "epoch: 8, cost: 0.00883659067324\n",
      "epoch: 9, cost: 0.00795914143351\n",
      "epoch: 10, cost: 0.0072446552217\n",
      "epoch: 11, cost: 0.00665089781192\n",
      "epoch: 12, cost: 0.00614922306421\n",
      "epoch: 13, cost: 0.00571947609275\n",
      "epoch: 14, cost: 0.00534703658665\n",
      "epoch: 15, cost: 0.00502103509521\n",
      "epoch: 16, cost: 0.00473320190374\n",
      "epoch: 17, cost: 0.00447714238629\n",
      "epoch: 18, cost: 0.00424782052873\n",
      "epoch: 19, cost: 0.00404122097294\n",
      "epoch: 20, cost: 0.00385409398374\n",
      "epoch: 21, cost: 0.00368379288721\n",
      "epoch: 22, cost: 0.00352812143286\n",
      "epoch: 23, cost: 0.00338526291288\n",
      "epoch: 24, cost: 0.00325368161432\n",
      "epoch: 25, cost: 0.00313208631847\n",
      "epoch: 26, cost: 0.00301937139572\n",
      "epoch: 27, cost: 0.00291459122074\n",
      "epoch: 28, cost: 0.00281693069027\n",
      "epoch: 29, cost: 0.00272568343692\n",
      "epoch: 30, cost: 0.00264023278333\n",
      "epoch: 31, cost: 0.0025600409671\n",
      "epoch: 32, cost: 0.00248463289607\n",
      "epoch: 33, cost: 0.00241358713369\n",
      "epoch: 34, cost: 0.00234653804256\n",
      "epoch: 35, cost: 0.00228315363006\n",
      "epoch: 36, cost: 0.00222313984101\n",
      "epoch: 37, cost: 0.00216623205883\n",
      "epoch: 38, cost: 0.0021121949152\n",
      "epoch: 39, cost: 0.00206081321367\n",
      "epoch: 40, cost: 0.0020118967125\n",
      "epoch: 41, cost: 0.00196527369045\n",
      "epoch: 42, cost: 0.00192077992923\n",
      "epoch: 43, cost: 0.00187827682487\n",
      "epoch: 44, cost: 0.00183762950408"
     ]
    }
   ],
   "source": [
    "# with some regularization via the optimizer\n",
    "r = 10\n",
    "predictions, test_costs, norm = factorize(X_train, y_train, X_test, y_test, r, verbose=True, max_iter=300, optimizer=tf.train.FtrlOptimizer(0.1, l2_regularization_strength=0.1))\n",
    "print(\"rank: %s, cost: %s, overall AUC: %s, norm: %s\") % (r, test_costs, roc_auc_score(y_test, predictions, average=\"weighted\"), norm)"
   ]
  },
  {
   "cell_type": "code",
   "execution_count": null,
   "metadata": {
    "collapsed": true
   },
   "outputs": [],
   "source": []
  }
 ],
 "metadata": {
  "kernelspec": {
   "display_name": "Python 2",
   "language": "python",
   "name": "python2"
  },
  "language_info": {
   "codemirror_mode": {
    "name": "ipython",
    "version": 2
   },
   "file_extension": ".py",
   "mimetype": "text/x-python",
   "name": "python",
   "nbconvert_exporter": "python",
   "pygments_lexer": "ipython2",
   "version": "2.7.11"
  }
 },
 "nbformat": 4,
 "nbformat_minor": 0
}
